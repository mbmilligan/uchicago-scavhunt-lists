{
 "cells": [
  {
   "cell_type": "markdown",
   "metadata": {},
   "source": [
    "# Welcome to ScavHunt Lists Data Analysis\n",
    "\n",
    "This is intended to be a turn-key environment for doing data analysis with the collected historical lists and transcripts of the UChicago ScavHunt. \n",
    "\n",
    "If you aren't familiar with the Jupyter environment, this document freely combines Python code and text. When you first open this document, none of the code has been run - the results you see are the saved outputs from last time this notebook was saved. You can run a cell yourself by clicking on it and pressing the Run button above (see the Help menu for keyboard shortcuts).\n",
    "\n",
    "TODO: add links to tutorial/reference materials."
   ]
  },
  {
   "cell_type": "markdown",
   "metadata": {},
   "source": [
    "## Fetching Data\n",
    "\n",
    "First things first, let's retrieve some data. The following command will download the collection of historical PDFs of lists, supplementals, fake lists, etc."
   ]
  },
  {
   "cell_type": "code",
   "execution_count": 1,
   "metadata": {},
   "outputs": [
    {
     "name": "stdout",
     "output_type": "stream",
     "text": [
      "Cloning into 'uchicago-scavhunt-lists'...\n",
      "remote: Enumerating objects: 56, done.\u001b[K\n",
      "remote: Counting objects: 100% (56/56), done.\u001b[K\n",
      "remote: Compressing objects: 100% (56/56), done.\u001b[K\n",
      "remote: Total 56 (delta 3), reused 49 (delta 0), pack-reused 0\u001b[K\n",
      "Unpacking objects: 100% (56/56), done.\n"
     ]
    }
   ],
   "source": [
    "!git clone https://github.com/mbmilligan/uchicago-scavhunt-lists.git"
   ]
  },
  {
   "cell_type": "code",
   "execution_count": 2,
   "metadata": {},
   "outputs": [
    {
     "name": "stdout",
     "output_type": "stream",
     "text": [
      "1987.pdf  1998.pdf            2007.pdf           2016.pdf\r\n",
      "1988.pdf  1999.pdf            2008.pdf           2017.pdf\r\n",
      "1989.pdf  2000.pdf            2008-ScavAir.pdf   2018.pdf\r\n",
      "1990.pdf  2001.pdf            2009.pdf           2019.pdf\r\n",
      "1991.pdf  2002-Abductees.pdf  2010.pdf           \u001b[0m\u001b[01;34mFake Lists\u001b[0m/\r\n",
      "1992.pdf  2002.pdf            2011-Guinness.pdf  lists.pdf\r\n",
      "1993.pdf  2003.pdf            2011.pdf           \u001b[01;31mPrevious Lists_ tex files.zip\u001b[0m\r\n",
      "1994.pdf  2004-AllStars.pdf   2012.pdf           README.md\r\n",
      "1995.pdf  2004.pdf            2014a.pdf\r\n",
      "1996.pdf  2005.pdf            2014b.pdf\r\n",
      "1997.pdf  2006.pdf            2015.pdf\r\n"
     ]
    }
   ],
   "source": [
    "ls uchicago-scavhunt-lists/"
   ]
  },
  {
   "cell_type": "markdown",
   "metadata": {},
   "source": [
    "Next, let's retrieve the spreadsheet where the transcribed item texts have been compiled. "
   ]
  },
  {
   "cell_type": "code",
   "execution_count": 4,
   "metadata": {},
   "outputs": [
    {
     "name": "stdout",
     "output_type": "stream",
     "text": [
      "  % Total    % Received % Xferd  Average Speed   Time    Time     Time  Current\n",
      "                                 Dload  Upload   Total   Spent    Left  Speed\n",
      "100 3611k    0 3611k    0     0  2533k      0 --:--:--  0:00:01 --:--:-- 2534k\n"
     ]
    }
   ],
   "source": [
    "!curl $(cat biglist.url) -o biglist.csv"
   ]
  },
  {
   "cell_type": "code",
   "execution_count": 5,
   "metadata": {},
   "outputs": [
    {
     "name": "stdout",
     "output_type": "stream",
     "text": [
      "biglist.csv\r\n"
     ]
    }
   ],
   "source": [
    "ls biglist.csv"
   ]
  },
  {
   "cell_type": "markdown",
   "metadata": {},
   "source": [
    "## Reading the big list\n",
    "\n",
    "Here is how we read the list into memory and manipulate it."
   ]
  },
  {
   "cell_type": "code",
   "execution_count": 7,
   "metadata": {},
   "outputs": [],
   "source": [
    "import pandas as pd"
   ]
  },
  {
   "cell_type": "code",
   "execution_count": 14,
   "metadata": {},
   "outputs": [],
   "source": [
    "items = pd.read_csv('biglist.csv', skiprows=1, encoding='utf8',\n",
    "                    names=['year','special','item','text','scoring','points','notes','formatted'])"
   ]
  },
  {
   "cell_type": "code",
   "execution_count": 15,
   "metadata": {},
   "outputs": [
    {
     "data": {
      "text/html": [
       "<div>\n",
       "<style scoped>\n",
       "    .dataframe tbody tr th:only-of-type {\n",
       "        vertical-align: middle;\n",
       "    }\n",
       "\n",
       "    .dataframe tbody tr th {\n",
       "        vertical-align: top;\n",
       "    }\n",
       "\n",
       "    .dataframe thead th {\n",
       "        text-align: right;\n",
       "    }\n",
       "</style>\n",
       "<table border=\"1\" class=\"dataframe\">\n",
       "  <thead>\n",
       "    <tr style=\"text-align: right;\">\n",
       "      <th></th>\n",
       "      <th>year</th>\n",
       "      <th>special</th>\n",
       "      <th>item</th>\n",
       "      <th>text</th>\n",
       "      <th>scoring</th>\n",
       "      <th>points</th>\n",
       "      <th>notes</th>\n",
       "      <th>formatted</th>\n",
       "    </tr>\n",
       "  </thead>\n",
       "  <tbody>\n",
       "    <tr>\n",
       "      <th>8403</th>\n",
       "      <td>2014(1)</td>\n",
       "      <td>NaN</td>\n",
       "      <td>193</td>\n",
       "      <td>A hornets’ nest. Minimum length 1.5 feet. No h...</td>\n",
       "      <td>15 points</td>\n",
       "      <td>15</td>\n",
       "      <td>NaN</td>\n",
       "      <td>2014(1).193. A hornets’ nest. Minimum length 1...</td>\n",
       "    </tr>\n",
       "    <tr>\n",
       "      <th>10035</th>\n",
       "      <td>2018</td>\n",
       "      <td>NaN</td>\n",
       "      <td>260</td>\n",
       "      <td>If we see an out-of-place stone on campus, we ...</td>\n",
       "      <td>7 points</td>\n",
       "      <td>7</td>\n",
       "      <td>NaN</td>\n",
       "      <td>2018.260. If we see an out-of-place stone on c...</td>\n",
       "    </tr>\n",
       "    <tr>\n",
       "      <th>3509</th>\n",
       "      <td>1998</td>\n",
       "      <td>NaN</td>\n",
       "      <td>239</td>\n",
       "      <td>Harry Caray Beanie Baby. [25 points. 5 bonus p...</td>\n",
       "      <td>25 points. 5 bonus points if it can take a sho...</td>\n",
       "      <td>25. 5 bonus if it can take a shot. 1 bonus if ...</td>\n",
       "      <td>NaN</td>\n",
       "      <td>1998.239. Harry Caray Beanie Baby. [25 points....</td>\n",
       "    </tr>\n",
       "    <tr>\n",
       "      <th>9967</th>\n",
       "      <td>2018</td>\n",
       "      <td>NaN</td>\n",
       "      <td>192</td>\n",
       "      <td>What all started with some Driscoll's® strawbe...</td>\n",
       "      <td>6 points</td>\n",
       "      <td>6</td>\n",
       "      <td>NaN</td>\n",
       "      <td>2018.192. What all started with some Driscoll'...</td>\n",
       "    </tr>\n",
       "    <tr>\n",
       "      <th>8040</th>\n",
       "      <td>2012</td>\n",
       "      <td>NaN</td>\n",
       "      <td>189</td>\n",
       "      <td>Bumper stickers from 2012 Democratic president...</td>\n",
       "      <td>2 points per sticker, max three stickers</td>\n",
       "      <td>2 per sticker, max three stickers</td>\n",
       "      <td>NaN</td>\n",
       "      <td>2012.189. Bumper stickers from 2012 Democratic...</td>\n",
       "    </tr>\n",
       "  </tbody>\n",
       "</table>\n",
       "</div>"
      ],
      "text/plain": [
       "          year special item  \\\n",
       "8403   2014(1)     NaN  193   \n",
       "10035     2018     NaN  260   \n",
       "3509      1998     NaN  239   \n",
       "9967      2018     NaN  192   \n",
       "8040      2012     NaN  189   \n",
       "\n",
       "                                                    text  \\\n",
       "8403   A hornets’ nest. Minimum length 1.5 feet. No h...   \n",
       "10035  If we see an out-of-place stone on campus, we ...   \n",
       "3509   Harry Caray Beanie Baby. [25 points. 5 bonus p...   \n",
       "9967   What all started with some Driscoll's® strawbe...   \n",
       "8040   Bumper stickers from 2012 Democratic president...   \n",
       "\n",
       "                                                 scoring  \\\n",
       "8403                                           15 points   \n",
       "10035                                           7 points   \n",
       "3509   25 points. 5 bonus points if it can take a sho...   \n",
       "9967                                            6 points   \n",
       "8040            2 points per sticker, max three stickers   \n",
       "\n",
       "                                                  points notes  \\\n",
       "8403                                                  15   NaN   \n",
       "10035                                                  7   NaN   \n",
       "3509   25. 5 bonus if it can take a shot. 1 bonus if ...   NaN   \n",
       "9967                                                   6   NaN   \n",
       "8040                   2 per sticker, max three stickers   NaN   \n",
       "\n",
       "                                               formatted  \n",
       "8403   2014(1).193. A hornets’ nest. Minimum length 1...  \n",
       "10035  2018.260. If we see an out-of-place stone on c...  \n",
       "3509   1998.239. Harry Caray Beanie Baby. [25 points....  \n",
       "9967   2018.192. What all started with some Driscoll'...  \n",
       "8040   2012.189. Bumper stickers from 2012 Democratic...  "
      ]
     },
     "execution_count": 15,
     "metadata": {},
     "output_type": "execute_result"
    }
   ],
   "source": [
    "items.sample(5)"
   ]
  },
  {
   "cell_type": "markdown",
   "metadata": {},
   "source": [
    "The above table is randomly sampled from the full list. If you re-run the above code cell, you will get different items back."
   ]
  },
  {
   "cell_type": "code",
   "execution_count": 19,
   "metadata": {},
   "outputs": [
    {
     "name": "stdout",
     "output_type": "stream",
     "text": [
      "2012.189. Bumper stickers from 2012 Democratic presidential candidates other than Barack Obama. [2 points per sticker, max three stickers]\n"
     ]
    }
   ],
   "source": [
    "print(items.iloc[8040].formatted)"
   ]
  },
  {
   "cell_type": "markdown",
   "metadata": {},
   "source": [
    "Here is how you would search for a keyword."
   ]
  },
  {
   "cell_type": "code",
   "execution_count": 24,
   "metadata": {},
   "outputs": [
    {
     "name": "stdout",
     "output_type": "stream",
     "text": [
      "2004.242. What's the Big Aristotle's take on fowl trouble? Write an editorial for Shaq's Chicken Herald. [6 pizzles]\n",
      "2011.216. By 11 a.m. on Sunday, have your team's website be the nth Google search result for the phrase \"Mama Shaq, Mama Shaq, Shaq's your mom, that's a fact\". [ $ rac{20}{n}$ points ]\n",
      "2014(2).224. A shaq-in-the-box, shaq'o'lantern, and battleShaqxe. [3 points each, and that's a fact]\n",
      "2014(2).240. At the Bata Museum, what size is Shaquile O'Neal's shoe? What did the Polish refer to break shoes as? What were flat-soled cogs used for? How did smuggler's shoes work? [6 points]\n",
      "2017.Road Trip.27. Linda's friends cheer her up with donuts at the Krispy Kreme owned by her all-time favorite NBA player, Shaq. She realizes that there might be some reason to stay on Earth a bit longer. [3.2 Magicly Hot points] [3.2 Magicly Hot points]\n"
     ]
    }
   ],
   "source": [
    "for i in items[items.text.str.contains(\"Shaq\")].formatted: print(i)"
   ]
  },
  {
   "cell_type": "code",
   "execution_count": null,
   "metadata": {},
   "outputs": [],
   "source": []
  }
 ],
 "metadata": {
  "kernelspec": {
   "display_name": "Python 3",
   "language": "python",
   "name": "python3"
  },
  "language_info": {
   "codemirror_mode": {
    "name": "ipython",
    "version": 3
   },
   "file_extension": ".py",
   "mimetype": "text/x-python",
   "name": "python",
   "nbconvert_exporter": "python",
   "pygments_lexer": "ipython3",
   "version": "3.6.7"
  }
 },
 "nbformat": 4,
 "nbformat_minor": 2
}
